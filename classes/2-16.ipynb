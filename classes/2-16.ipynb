{
 "cells": [
  {
   "cell_type": "code",
   "execution_count": 1,
   "metadata": {},
   "outputs": [
    {
     "data": {
      "text/plain": [
       "5×7 Matrix{Float64}:\n",
       " 1.0  0.0  1.0  1.0  0.0   1.0  0.0\n",
       " 0.0  1.0  2.0  1.0  0.0   3.0  0.0\n",
       " 0.0  0.0  0.0  0.0  1.0  -1.0  0.0\n",
       " 0.0  0.0  0.0  0.0  0.0   0.0  1.0\n",
       " 0.0  0.0  0.0  0.0  0.0   0.0  0.0"
      ]
     },
     "execution_count": 1,
     "metadata": {},
     "output_type": "execute_result"
    }
   ],
   "source": [
    "using RowEchelon\n",
    "A = [1 2 5 3 -1 8 1;2 1 4 3 -1 6 1;3 1 5 4 1 5 -2;1 2 5 3 -1 8 2;4 3 10 7 0 13 0];\n",
    "rref(A)"
   ]
  },
  {
   "cell_type": "code",
   "execution_count": 4,
   "metadata": {},
   "outputs": [
    {
     "data": {
      "text/plain": [
       "7×5 adjoint(::Matrix{Int64}) with eltype Int64:\n",
       "  1   2   3   1   4\n",
       "  2   1   1   2   3\n",
       "  5   4   5   5  10\n",
       "  3   3   4   3   7\n",
       " -1  -1   1  -1   0\n",
       "  8   6   5   8  13\n",
       "  1   1  -2   2   0"
      ]
     },
     "execution_count": 4,
     "metadata": {},
     "output_type": "execute_result"
    }
   ],
   "source": [
    "A_t = A'"
   ]
  },
  {
   "cell_type": "code",
   "execution_count": 5,
   "metadata": {},
   "outputs": [
    {
     "data": {
      "text/plain": [
       "7×5 Matrix{Float64}:\n",
       " 1.0  0.0  0.0  0.0  3.33067e-16\n",
       " 0.0  1.0  0.0  0.0  2.22045e-16\n",
       " 0.0  0.0  1.0  0.0  1.0\n",
       " 0.0  0.0  0.0  1.0  1.0\n",
       " 0.0  0.0  0.0  0.0  0.0\n",
       " 0.0  0.0  0.0  0.0  0.0\n",
       " 0.0  0.0  0.0  0.0  0.0"
      ]
     },
     "execution_count": 5,
     "metadata": {},
     "output_type": "execute_result"
    }
   ],
   "source": [
    "rref(A_t)"
   ]
  }
 ],
 "metadata": {
  "kernelspec": {
   "display_name": "Julia 1.10.0",
   "language": "julia",
   "name": "julia-1.10"
  },
  "language_info": {
   "file_extension": ".jl",
   "mimetype": "application/julia",
   "name": "julia",
   "version": "1.10.0"
  }
 },
 "nbformat": 4,
 "nbformat_minor": 2
}
