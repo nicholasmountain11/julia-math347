{
 "cells": [
  {
   "cell_type": "code",
   "execution_count": 1,
   "metadata": {},
   "outputs": [
    {
     "data": {
      "text/plain": [
       "4×3 Matrix{Float64}:\n",
       " 1.0  0.0  0.0\n",
       " 0.0  1.0  0.0\n",
       " 0.0  0.0  0.0\n",
       " 0.0  0.0  0.0"
      ]
     },
     "execution_count": 1,
     "metadata": {},
     "output_type": "execute_result"
    }
   ],
   "source": [
    "using RowEchelon\n",
    "rref([1 2 0;2 5 0;4 1 0;5 1 0])"
   ]
  },
  {
   "cell_type": "code",
   "execution_count": 4,
   "metadata": {},
   "outputs": [
    {
     "data": {
      "text/plain": [
       "4×6 Matrix{Float64}:\n",
       " 1.0  0.0  -3.0  0.0  2.0  0.0\n",
       " 0.0  1.0   1.0  0.0  1.0  0.0\n",
       " 0.0  0.0   0.0  1.0  0.0  0.0\n",
       " 0.0  0.0   0.0  0.0  0.0  0.0"
      ]
     },
     "execution_count": 4,
     "metadata": {},
     "output_type": "execute_result"
    }
   ],
   "source": [
    "A = [1 2 -1 -1 4 0;2 1 -5 -1 5 0;1 -1 -4 1 1 0;-2 3 9 2 -1 0];\n",
    "rref(A)"
   ]
  },
  {
   "cell_type": "code",
   "execution_count": 9,
   "metadata": {},
   "outputs": [
    {
     "data": {
      "text/plain": [
       "6×4 adjoint(::Matrix{Int64}) with eltype Int64:\n",
       "  1   2   1  -2\n",
       "  2   1  -1   3\n",
       " -1  -5  -4   9\n",
       " -1  -1   1   2\n",
       "  4   5   1  -1\n",
       "  0   0   0   0"
      ]
     },
     "execution_count": 9,
     "metadata": {},
     "output_type": "execute_result"
    }
   ],
   "source": [
    "B = A'"
   ]
  },
  {
   "cell_type": "code",
   "execution_count": 11,
   "metadata": {},
   "outputs": [
    {
     "data": {
      "text/plain": [
       "6×4 Matrix{Float64}:\n",
       " 1.0  0.0  0.0   5.0\n",
       " 0.0  1.0  0.0  -4.66667\n",
       " 0.0  0.0  1.0   2.33333\n",
       " 0.0  0.0  0.0   0.0\n",
       " 0.0  0.0  0.0   0.0\n",
       " 0.0  0.0  0.0   0.0"
      ]
     },
     "execution_count": 11,
     "metadata": {},
     "output_type": "execute_result"
    }
   ],
   "source": [
    "rref(B)"
   ]
  }
 ],
 "metadata": {
  "kernelspec": {
   "display_name": "Julia 1.10.0",
   "language": "julia",
   "name": "julia-1.10"
  },
  "language_info": {
   "file_extension": ".jl",
   "mimetype": "application/julia",
   "name": "julia",
   "version": "1.10.0"
  }
 },
 "nbformat": 4,
 "nbformat_minor": 2
}
