{
 "cells": [
  {
   "cell_type": "code",
   "execution_count": 1,
   "metadata": {},
   "outputs": [
    {
     "data": {
      "text/plain": [
       "3×6 Matrix{Float64}:\n",
       " 1.0  2.0  0.0  2.0  0.0  3.0\n",
       " 0.0  0.0  1.0  4.0  0.0  5.0\n",
       " 0.0  0.0  0.0  0.0  1.0  6.0"
      ]
     },
     "execution_count": 1,
     "metadata": {},
     "output_type": "execute_result"
    }
   ],
   "source": [
    "using RowEchelon\n",
    "rref([2 4 -1 0 -1 -5;-1 -2 1 2 -1 -4;1 2 -2 -6 1 -1])"
   ]
  }
 ],
 "metadata": {
  "kernelspec": {
   "display_name": "Julia 1.10.0",
   "language": "julia",
   "name": "julia-1.10"
  },
  "language_info": {
   "file_extension": ".jl",
   "mimetype": "application/julia",
   "name": "julia",
   "version": "1.10.0"
  }
 },
 "nbformat": 4,
 "nbformat_minor": 2
}
