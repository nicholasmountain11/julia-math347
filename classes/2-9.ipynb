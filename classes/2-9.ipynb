{
 "cells": [
  {
   "cell_type": "code",
   "execution_count": 1,
   "metadata": {},
   "outputs": [
    {
     "data": {
      "text/plain": [
       "5×7 Matrix{Float64}:\n",
       " 1.0  0.0  1.0  0.0  -3.0  0.0   2.0\n",
       " 0.0  1.0  2.0  0.0   1.0  0.0   1.0\n",
       " 0.0  0.0  0.0  1.0   2.0  0.0  -2.0\n",
       " 0.0  0.0  0.0  0.0   0.0  1.0   1.0\n",
       " 0.0  0.0  0.0  0.0   0.0  0.0   0.0"
      ]
     },
     "execution_count": 1,
     "metadata": {},
     "output_type": "execute_result"
    }
   ],
   "source": [
    "using RowEchelon\n",
    "A = [1 2 5 2 3 2 2;2 1 4 4 3 1 -2;3 3 9 1 -4 -3 4;2 1 4 4 3 1 -2;-1 2 3 -1 3 1 3];\n",
    "rref(A)"
   ]
  }
 ],
 "metadata": {
  "kernelspec": {
   "display_name": "Julia 1.10.0",
   "language": "julia",
   "name": "julia-1.10"
  },
  "language_info": {
   "file_extension": ".jl",
   "mimetype": "application/julia",
   "name": "julia",
   "version": "1.10.0"
  }
 },
 "nbformat": 4,
 "nbformat_minor": 2
}
