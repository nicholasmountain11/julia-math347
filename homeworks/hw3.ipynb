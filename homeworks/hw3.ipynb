{
 "cells": [
  {
   "cell_type": "code",
   "execution_count": 2,
   "metadata": {},
   "outputs": [
    {
     "data": {
      "text/plain": [
       "LU{Float64, Matrix{Float64}, Vector{Int64}}\n",
       "L factor:\n",
       "3×3 Matrix{Float64}:\n",
       "  1.0  0.0  0.0\n",
       "  2.0  1.0  0.0\n",
       " -1.0  1.0  1.0\n",
       "U factor:\n",
       "3×3 Matrix{Float64}:\n",
       " 3.0  -2.0  -3.0\n",
       " 0.0   2.0   2.0\n",
       " 0.0   0.0   1.0"
      ]
     },
     "execution_count": 2,
     "metadata": {},
     "output_type": "execute_result"
    }
   ],
   "source": [
    "A = [3 -2 -3;6 -2 -4;-3 4 6];\n",
    "using LinearAlgebra\n",
    "B = lu(A, RowNonZero())"
   ]
  },
  {
   "cell_type": "code",
   "execution_count": 7,
   "metadata": {},
   "outputs": [
    {
     "data": {
      "text/plain": [
       "3-element Vector{Float64}:\n",
       "  2.0000000000000004\n",
       " -1.0000000000000018\n",
       "  2.0000000000000013"
      ]
     },
     "execution_count": 7,
     "metadata": {},
     "output_type": "execute_result"
    }
   ],
   "source": [
    "b = [2;6;2];\n",
    "x = A\\b"
   ]
  }
 ],
 "metadata": {
  "kernelspec": {
   "display_name": "Julia 1.10.0",
   "language": "julia",
   "name": "julia-1.10"
  },
  "language_info": {
   "file_extension": ".jl",
   "mimetype": "application/julia",
   "name": "julia",
   "version": "1.10.0"
  }
 },
 "nbformat": 4,
 "nbformat_minor": 2
}
