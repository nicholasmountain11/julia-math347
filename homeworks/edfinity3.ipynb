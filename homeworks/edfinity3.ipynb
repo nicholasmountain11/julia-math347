{
 "cells": [
  {
   "cell_type": "markdown",
   "metadata": {},
   "source": []
  },
  {
   "cell_type": "code",
   "execution_count": 3,
   "metadata": {},
   "outputs": [
    {
     "data": {
      "text/plain": [
       "3×4 Matrix{Float64}:\n",
       " 1.0  0.0  -1.0  0.0\n",
       " 0.0  1.0   2.0  0.0\n",
       " 0.0  0.0   0.0  1.0"
      ]
     },
     "execution_count": 3,
     "metadata": {},
     "output_type": "execute_result"
    }
   ],
   "source": [
    "using RowEchelon\n",
    "rref([5 4 3 -4;-3 -4 -5 20;2 0 -2 16])"
   ]
  },
  {
   "cell_type": "code",
   "execution_count": 4,
   "metadata": {},
   "outputs": [
    {
     "data": {
      "text/plain": [
       "3×4 Matrix{Float64}:\n",
       " 1.0  0.0  -1.0  -3.0\n",
       " 0.0  1.0   2.0   3.0\n",
       " 0.0  0.0   0.0   0.0"
      ]
     },
     "execution_count": 4,
     "metadata": {},
     "output_type": "execute_result"
    }
   ],
   "source": [
    "rref([1 -5 -11 -18;3 -2 -7 -15;4 -7 -18 -33])"
   ]
  },
  {
   "cell_type": "code",
   "execution_count": 5,
   "metadata": {},
   "outputs": [
    {
     "data": {
      "text/plain": [
       "3×3 Matrix{Int64}:\n",
       " 9  8  7\n",
       " 6  5  4\n",
       " 3  2  1"
      ]
     },
     "execution_count": 5,
     "metadata": {},
     "output_type": "execute_result"
    }
   ],
   "source": [
    "[0 0 1;0 1 0;1 0 0] * [1 2 3;4 5 6;7 8 9] * [0 0 1;0 1 0;1 0 0]"
   ]
  },
  {
   "cell_type": "code",
   "execution_count": 7,
   "metadata": {},
   "outputs": [
    {
     "data": {
      "text/plain": [
       "3×3 Matrix{Int64}:\n",
       " 1  2  3\n",
       " 3  3  3\n",
       " 6  6  6"
      ]
     },
     "execution_count": 7,
     "metadata": {},
     "output_type": "execute_result"
    }
   ],
   "source": [
    "[1 0 0;-1 1 0;-1 0 1] * [1 2 3;4 5 6;7 8 9]"
   ]
  },
  {
   "cell_type": "code",
   "execution_count": 23,
   "metadata": {},
   "outputs": [],
   "source": [
    "A = [1 1;1 1;1 1;1 1;1 1];\n",
    "B = [1 1 1 1 1;1 1 1 1 1];\n",
    "C = [1 1 1 1;1 1 1 1];\n",
    "D = [1 1 1 1;1 1 1 1;1 1 1 1;1 1 1 1;1 1 1 1];"
   ]
  },
  {
   "cell_type": "code",
   "execution_count": 16,
   "metadata": {},
   "outputs": [
    {
     "data": {
      "text/plain": [
       "2×2 Matrix{Int64}:\n",
       " 5  5\n",
       " 5  5"
      ]
     },
     "execution_count": 16,
     "metadata": {},
     "output_type": "execute_result"
    }
   ],
   "source": [
    "E = B*A"
   ]
  },
  {
   "cell_type": "code",
   "execution_count": 24,
   "metadata": {},
   "outputs": [
    {
     "data": {
      "text/plain": [
       "5×5 Matrix{Int64}:\n",
       " 2  2  2  2  2\n",
       " 2  2  2  2  2\n",
       " 2  2  2  2  2\n",
       " 2  2  2  2  2\n",
       " 2  2  2  2  2"
      ]
     },
     "execution_count": 24,
     "metadata": {},
     "output_type": "execute_result"
    }
   ],
   "source": [
    "F = A*B"
   ]
  },
  {
   "cell_type": "code",
   "execution_count": 25,
   "metadata": {},
   "outputs": [
    {
     "data": {
      "text/plain": [
       "5×4 Matrix{Int64}:\n",
       " 10  10  10  10\n",
       " 10  10  10  10\n",
       " 10  10  10  10\n",
       " 10  10  10  10\n",
       " 10  10  10  10"
      ]
     },
     "execution_count": 25,
     "metadata": {},
     "output_type": "execute_result"
    }
   ],
   "source": [
    "F*D"
   ]
  },
  {
   "cell_type": "code",
   "execution_count": 19,
   "metadata": {},
   "outputs": [
    {
     "ename": "LoadError",
     "evalue": "DimensionMismatch: matrix A has dimensions (4,4), matrix B has dimensions (2,4)",
     "output_type": "error",
     "traceback": [
      "DimensionMismatch: matrix A has dimensions (4,4), matrix B has dimensions (2,4)",
      "",
      "Stacktrace:",
      " [1] _generic_matmatmul!(C::Matrix{Int64}, tA::Char, tB::Char, A::Matrix{Int64}, B::Matrix{Int64}, _add::LinearAlgebra.MulAddMul{true, true, Bool, Bool})",
      "   @ LinearAlgebra /Applications/Julia-1.10.app/Contents/Resources/julia/share/julia/stdlib/v1.10/LinearAlgebra/src/matmul.jl:794",
      " [2] generic_matmatmul!(C::Matrix{Int64}, tA::Char, tB::Char, A::Matrix{Int64}, B::Matrix{Int64}, _add::LinearAlgebra.MulAddMul{true, true, Bool, Bool})",
      "   @ LinearAlgebra /Applications/Julia-1.10.app/Contents/Resources/julia/share/julia/stdlib/v1.10/LinearAlgebra/src/matmul.jl:783",
      " [3] mul!",
      "   @ LinearAlgebra /Applications/Julia-1.10.app/Contents/Resources/julia/share/julia/stdlib/v1.10/LinearAlgebra/src/matmul.jl:263 [inlined]",
      " [4] mul!",
      "   @ LinearAlgebra /Applications/Julia-1.10.app/Contents/Resources/julia/share/julia/stdlib/v1.10/LinearAlgebra/src/matmul.jl:237 [inlined]",
      " [5] *(A::Matrix{Int64}, B::Matrix{Int64})",
      "   @ LinearAlgebra /Applications/Julia-1.10.app/Contents/Resources/julia/share/julia/stdlib/v1.10/LinearAlgebra/src/matmul.jl:106",
      " [6] top-level scope",
      "   @ In[19]:1"
     ]
    }
   ],
   "source": [
    "D * C"
   ]
  },
  {
   "cell_type": "code",
   "execution_count": 20,
   "metadata": {},
   "outputs": [
    {
     "ename": "LoadError",
     "evalue": "DimensionMismatch: dimensions must match: a has dims (Base.OneTo(2), Base.OneTo(5)), b has dims (Base.OneTo(2), Base.OneTo(4)), mismatch at 2",
     "output_type": "error",
     "traceback": [
      "DimensionMismatch: dimensions must match: a has dims (Base.OneTo(2), Base.OneTo(5)), b has dims (Base.OneTo(2), Base.OneTo(4)), mismatch at 2",
      "",
      "Stacktrace:",
      " [1] promote_shape",
      "   @ ./indices.jl:178 [inlined]",
      " [2] promote_shape(a::Matrix{Int64}, b::Matrix{Int64})",
      "   @ Base ./indices.jl:169",
      " [3] +(A::Matrix{Int64}, Bs::Matrix{Int64})",
      "   @ Base ./arraymath.jl:14",
      " [4] top-level scope",
      "   @ In[20]:1"
     ]
    }
   ],
   "source": [
    "A * (B+C)"
   ]
  },
  {
   "cell_type": "code",
   "execution_count": 21,
   "metadata": {},
   "outputs": [
    {
     "ename": "LoadError",
     "evalue": "DimensionMismatch: matrix A has dimensions (2,5), matrix B has dimensions (4,4)",
     "output_type": "error",
     "traceback": [
      "DimensionMismatch: matrix A has dimensions (2,5), matrix B has dimensions (4,4)",
      "",
      "Stacktrace:",
      " [1] _generic_matmatmul!(C::Matrix{Int64}, tA::Char, tB::Char, A::Matrix{Int64}, B::Matrix{Int64}, _add::LinearAlgebra.MulAddMul{true, true, Bool, Bool})",
      "   @ LinearAlgebra /Applications/Julia-1.10.app/Contents/Resources/julia/share/julia/stdlib/v1.10/LinearAlgebra/src/matmul.jl:794",
      " [2] generic_matmatmul!(C::Matrix{Int64}, tA::Char, tB::Char, A::Matrix{Int64}, B::Matrix{Int64}, _add::LinearAlgebra.MulAddMul{true, true, Bool, Bool})",
      "   @ LinearAlgebra /Applications/Julia-1.10.app/Contents/Resources/julia/share/julia/stdlib/v1.10/LinearAlgebra/src/matmul.jl:783",
      " [3] mul!",
      "   @ /Applications/Julia-1.10.app/Contents/Resources/julia/share/julia/stdlib/v1.10/LinearAlgebra/src/matmul.jl:263 [inlined]",
      " [4] mul!",
      "   @ /Applications/Julia-1.10.app/Contents/Resources/julia/share/julia/stdlib/v1.10/LinearAlgebra/src/matmul.jl:237 [inlined]",
      " [5] *",
      "   @ /Applications/Julia-1.10.app/Contents/Resources/julia/share/julia/stdlib/v1.10/LinearAlgebra/src/matmul.jl:106 [inlined]",
      " [6] _tri_matmul(A::Matrix{Int64}, B::Matrix{Int64}, C::Matrix{Int64}, δ::Nothing)",
      "   @ LinearAlgebra /Applications/Julia-1.10.app/Contents/Resources/julia/share/julia/stdlib/v1.10/LinearAlgebra/src/matmul.jl:1170",
      " [7] _tri_matmul",
      "   @ LinearAlgebra /Applications/Julia-1.10.app/Contents/Resources/julia/share/julia/stdlib/v1.10/LinearAlgebra/src/matmul.jl:1164 [inlined]",
      " [8] *(A::Matrix{Int64}, B::Matrix{Int64}, C::Matrix{Int64})",
      "   @ LinearAlgebra /Applications/Julia-1.10.app/Contents/Resources/julia/share/julia/stdlib/v1.10/LinearAlgebra/src/matmul.jl:1160",
      " [9] top-level scope",
      "   @ In[21]:1"
     ]
    }
   ],
   "source": [
    "A * B * D"
   ]
  },
  {
   "cell_type": "code",
   "execution_count": 26,
   "metadata": {},
   "outputs": [
    {
     "data": {
      "text/plain": [
       "2×2 Matrix{Int64}:\n",
       " 34  -12\n",
       "  6   -2"
      ]
     },
     "execution_count": 26,
     "metadata": {},
     "output_type": "execute_result"
    }
   ],
   "source": [
    "A = [3 -2;0 0];\n",
    "B = [3 0;1 0];\n",
    "(A + B) * (A + B)"
   ]
  },
  {
   "cell_type": "code",
   "execution_count": 27,
   "metadata": {},
   "outputs": [
    {
     "data": {
      "text/plain": [
       "2×2 Matrix{Int64}:\n",
       " 32  -6\n",
       "  3   0"
      ]
     },
     "execution_count": 27,
     "metadata": {},
     "output_type": "execute_result"
    }
   ],
   "source": [
    "A * A + 2 * (A*B) + B * B"
   ]
  },
  {
   "cell_type": "code",
   "execution_count": null,
   "metadata": {},
   "outputs": [],
   "source": [
    "rref([])"
   ]
  }
 ],
 "metadata": {
  "kernelspec": {
   "display_name": "Julia 1.10.0",
   "language": "julia",
   "name": "julia-1.10"
  },
  "language_info": {
   "file_extension": ".jl",
   "mimetype": "application/julia",
   "name": "julia",
   "version": "1.10.0"
  }
 },
 "nbformat": 4,
 "nbformat_minor": 2
}
