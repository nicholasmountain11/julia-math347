{
 "cells": [
  {
   "cell_type": "code",
   "execution_count": 6,
   "metadata": {},
   "outputs": [
    {
     "data": {
      "text/plain": [
       "5"
      ]
     },
     "execution_count": 6,
     "metadata": {},
     "output_type": "execute_result"
    }
   ],
   "source": [
    "using LinearAlgebra\n",
    "u = [3 -3 -4];\n",
    "v = [-5 1 -3];\n",
    "w = [0 3 -5];\n",
    "dot(u,v)\n",
    "dot(u,w)\n",
    "dot(v,w)\n",
    "dot(v,v)\n",
    "dot(u,(v+w))"
   ]
  },
  {
   "cell_type": "code",
   "execution_count": 7,
   "metadata": {},
   "outputs": [
    {
     "data": {
      "text/plain": [
       "1×3 Matrix{Float64}:\n",
       " -0.441176  0.441176  0.588235"
      ]
     },
     "execution_count": 7,
     "metadata": {},
     "output_type": "execute_result"
    }
   ],
   "source": [
    "x = [1;-4;5];\n",
    "y = [-2;-2;1];\n",
    "(dot(x,u)/dot(u,u))*u"
   ]
  },
  {
   "cell_type": "code",
   "execution_count": 10,
   "metadata": {},
   "outputs": [
    {
     "data": {
      "text/plain": [
       "4-element Vector{Float64}:\n",
       " -4.251428571428572\n",
       " -2.8400000000000003\n",
       "  1.1257142857142857\n",
       " -1.9371428571428577"
      ]
     },
     "execution_count": 10,
     "metadata": {},
     "output_type": "execute_result"
    }
   ],
   "source": [
    "v = [-8,6,4,-5];\n",
    "A = [-4 4;-2 7;2 5;1 20];\n",
    "c = inv(A'*A)*A'*v;\n",
    "p = A*c"
   ]
  },
  {
   "cell_type": "code",
   "execution_count": 15,
   "metadata": {},
   "outputs": [
    {
     "data": {
      "text/plain": [
       "3-element Vector{Float64}:\n",
       "  2.6666666666666665\n",
       " -5.333333333333333\n",
       "  5.333333333333333"
      ]
     },
     "execution_count": 15,
     "metadata": {},
     "output_type": "execute_result"
    }
   ],
   "source": [
    "y = [0;-3;9];\n",
    "u = [1;-2;2];\n",
    "x1 = (dot(y,u)/dot(u,u))*u"
   ]
  },
  {
   "cell_type": "code",
   "execution_count": 16,
   "metadata": {},
   "outputs": [
    {
     "data": {
      "text/plain": [
       "3-element Vector{Float64}:\n",
       " -2.6666666666666665\n",
       "  2.333333333333333\n",
       "  3.666666666666667"
      ]
     },
     "execution_count": 16,
     "metadata": {},
     "output_type": "execute_result"
    }
   ],
   "source": [
    "x2 = y-x1"
   ]
  },
  {
   "cell_type": "code",
   "execution_count": 17,
   "metadata": {},
   "outputs": [
    {
     "data": {
      "text/plain": [
       "3×3 Matrix{Float64}:\n",
       "  0.666667  -0.333333  -0.333333\n",
       " -0.333333   0.666667  -0.333333\n",
       " -0.333333  -0.333333   0.666667"
      ]
     },
     "execution_count": 17,
     "metadata": {},
     "output_type": "execute_result"
    }
   ],
   "source": [
    "A = [1 0;1 8;-2 -8];\n",
    "A*inv(A'*A)*A'"
   ]
  }
 ],
 "metadata": {
  "kernelspec": {
   "display_name": "Julia 1.10.0",
   "language": "julia",
   "name": "julia-1.10"
  },
  "language_info": {
   "file_extension": ".jl",
   "mimetype": "application/julia",
   "name": "julia",
   "version": "1.10.0"
  }
 },
 "nbformat": 4,
 "nbformat_minor": 2
}
