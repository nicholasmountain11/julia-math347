{
 "cells": [
  {
   "cell_type": "code",
   "execution_count": 4,
   "metadata": {},
   "outputs": [
    {
     "data": {
      "text/plain": [
       "4×5 Matrix{Float64}:\n",
       " 1.0  0.0  0.0  0.0  -1.2\n",
       " 0.0  1.0  0.0  0.0   2.2\n",
       " 0.0  0.0  1.0  0.0  -5.2\n",
       " 0.0  0.0  0.0  1.0   3.4"
      ]
     },
     "execution_count": 4,
     "metadata": {},
     "output_type": "execute_result"
    }
   ],
   "source": [
    "using RowEchelon\n",
    "A = [1 2 2 3 3;2 1 1 1 -2;-1 1 0 -1 0;3 1 0 1 2];\n",
    "rref(A)"
   ]
  },
  {
   "cell_type": "code",
   "execution_count": 5,
   "metadata": {},
   "outputs": [
    {
     "data": {
      "text/plain": [
       "4×5 Matrix{Float64}:\n",
       " 1.0  0.0  2.0  0.0   3.0\n",
       " 0.0  1.0  1.0  0.0  -2.0\n",
       " 0.0  0.0  0.0  1.0   2.0\n",
       " 0.0  0.0  0.0  0.0   0.0"
      ]
     },
     "execution_count": 5,
     "metadata": {},
     "output_type": "execute_result"
    }
   ],
   "source": [
    "rref([1 2 4 3 5;2 1 5 1 6;-1 1 -1 -1 -7;3 1 7 1 9])"
   ]
  },
  {
   "cell_type": "code",
   "execution_count": 10,
   "metadata": {},
   "outputs": [
    {
     "data": {
      "text/plain": [
       "5-element Vector{Int64}:\n",
       " 0\n",
       " 0\n",
       " 0\n",
       " 0\n",
       " 0"
      ]
     },
     "execution_count": 10,
     "metadata": {},
     "output_type": "execute_result"
    }
   ],
   "source": [
    "C = [1 2 5 3 -1 8 1;2 1 4 3 -1 6 1;3 1 5 4 1 5 -2;1 2 5 3 -1 8 2;4 3 10 7 0 13 0];\n",
    "n = [-1,-3,0,0,1,1,0];\n",
    "l = [-1,-2,1,0,0,0,0];\n",
    "C * n"
   ]
  },
  {
   "cell_type": "code",
   "execution_count": 11,
   "metadata": {},
   "outputs": [
    {
     "data": {
      "text/plain": [
       "7×5 Matrix{Float64}:\n",
       " 1.0  0.0  0.0  0.0  3.33067e-16\n",
       " 0.0  1.0  0.0  0.0  2.22045e-16\n",
       " 0.0  0.0  1.0  0.0  1.0\n",
       " 0.0  0.0  0.0  1.0  1.0\n",
       " 0.0  0.0  0.0  0.0  0.0\n",
       " 0.0  0.0  0.0  0.0  0.0\n",
       " 0.0  0.0  0.0  0.0  0.0"
      ]
     },
     "execution_count": 11,
     "metadata": {},
     "output_type": "execute_result"
    }
   ],
   "source": [
    "rref(C')"
   ]
  }
 ],
 "metadata": {
  "kernelspec": {
   "display_name": "Julia 1.10.0",
   "language": "julia",
   "name": "julia-1.10"
  },
  "language_info": {
   "file_extension": ".jl",
   "mimetype": "application/julia",
   "name": "julia",
   "version": "1.10.0"
  }
 },
 "nbformat": 4,
 "nbformat_minor": 2
}
